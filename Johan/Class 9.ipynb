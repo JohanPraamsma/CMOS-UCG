{
 "cells": [
  {
   "cell_type": "code",
   "execution_count": 14,
   "metadata": {},
   "outputs": [
    {
     "data": {
      "text/plain": [
       "(20.07493103188703, 9.543290775927781, -1.638056344426761)"
      ]
     },
     "execution_count": 14,
     "metadata": {},
     "output_type": "execute_result"
    },
    {
     "data": {
      "image/png": "[encoded data removed]",
      "text/plain": [
       "<Figure size 432x288 with 1 Axes>"
      ]
     },
     "metadata": {
      "needs_background": "light"
     },
     "output_type": "display_data"
    }
   ],
   "source": [
    "import numpy as np\n",
    "import matplotlib.pyplot as plt\n",
    "import math \n",
    "\n",
    "rng = np.random.RandomState(42)\n",
    "x = 10 * rng.rand(500)\n",
    "y = 20*x**2 + 10*x - 1 + rng.rand(500)\n",
    "plt.scatter(x,y)\n",
    "plt.scatter(x,20*x**2+10*x-1)\n",
    "\n",
    "def Function(x,y,a,b,c): \n",
    "    E = 0\n",
    "    for i in range(len(y)):\n",
    "        E = E + (y[i]-(a*(x[i])**2+b*x[i]+c))**2\n",
    "#        print(y[i])\n",
    "#        print(x[i])\n",
    "#        print(E)\n",
    "    return E/(2 * len(y))\n",
    "Function(x,y,20,10,-1)\n",
    "\n",
    "def dF(x,y,a,b,c):\n",
    "    f = y - (a*x**2+b*x+c)\n",
    "    dfa = f * (-x**2)\n",
    "    dfb = f * (-x)\n",
    "    dfc = f * (-1)\n",
    "#    z = np.sum(dfb)/len(y) - (a*(np.sum(dfa)/len(y))**2+b*x+c)\n",
    "    return np.sum(dfa)/len(y), np.sum(dfb)/len(y), np.sum(dfc)/len(y)\n",
    "\n",
    "#print(dF(x,y,20,10,-1))\n",
    "\n",
    "#print((Function(x,y,20.001,10,-1.)-Function(x,y,20.0,10,-1.))/0.001)\n",
    "#print((Function(x,y,20,10.001,-1.)-Function(x,y,20.0,10,-1.))/0.001)\n",
    "#print((Function(x,y,20,10,-1)-Function(x,y,20.0,10,-1.001))/0.001)\n",
    "\n",
    "def GD(a,b,c):\n",
    "    for i in range(10000):\n",
    "        df = dF(x,y,a,b,c)\n",
    "        a = a - (0.0001*df[0])\n",
    "        b = b - (0.0001*df[1])\n",
    "        c = c - (0.0001*df[2])\n",
    "        \n",
    "#    plt.scatter(x, a*x**2+b*x-c)\n",
    "    return a, b, c\n",
    "\n",
    "GD(10,1,-5)"
   ]
  },
  {
   "cell_type": "code",
   "execution_count": 28,
   "metadata": {},
   "outputs": [
    {
     "name": "stdout",
     "output_type": "stream",
     "text": [
      "[0.  0.5 1.  1.5 2.  2.5 3.  3.5 4. ]\n",
      "[1.      3.21875 3.      2.21875 2.      2.71875 4.      4.71875 3.     ]\n"
     ]
    }
   ],
   "source": [
    "import numpy as np\n",
    "import matplotlib.pyplot as plt\n",
    "import math \n",
    "\n",
    "x = np.array(range(9))/2\n",
    "print(x)\n",
    "y = -0.5*x**4 + 4*x**3 - 10*x**2 + 8.5*x + 1 \n",
    "print(y)\n",
    "\n"
   ]
  },
  {
   "cell_type": "code",
   "execution_count": null,
   "metadata": {},
   "outputs": [],
   "source": []
  }
 ],
 "metadata": {
  "kernelspec": {
   "display_name": "Python 3",
   "language": "python",
   "name": "python3"
  },
  "language_info": {
   "codemirror_mode": {
    "name": "ipython",
    "version": 3
   },
   "file_extension": ".py",
   "mimetype": "text/x-python",
   "name": "python",
   "nbconvert_exporter": "python",
   "pygments_lexer": "ipython3",
   "version": "3.7.3"
  }
 },
 "nbformat": 4,
 "nbformat_minor": 2
}
